{
 "cells": [
  {
   "cell_type": "code",
   "execution_count": null,
   "metadata": {},
   "outputs": [],
   "source": [
    "import numpy"
   ]
  },
  {
   "cell_type": "markdown",
   "metadata": {},
   "source": [
    "1. Buatlah array 2D berikut menggunakan numpy"
   ]
  },
  {
   "cell_type": "code",
   "execution_count": null,
   "metadata": {},
   "outputs": [],
   "source": [
    "array2d = numpy.array([\n",
    "    [4,4,5],\n",
    "    [7,6,4],\n",
    "    [9,7,4],\n",
    "    [6,7,3],\n",
    "])\n",
    "print(array2d)"
   ]
  },
  {
   "cell_type": "markdown",
   "metadata": {},
   "source": [
    "2. Buatlah Array 3D berikut menggunakan numpy"
   ]
  },
  {
   "cell_type": "code",
   "execution_count": null,
   "metadata": {},
   "outputs": [],
   "source": [
    "array3d = numpy.array([\n",
    "    [\n",
    "        [7,8,5],\n",
    "        [4,7,7],\n",
    "        [7,1,9],\n",
    "        [5,4,10]\n",
    "    ],\n",
    "    [\n",
    "        [2,1,2],\n",
    "        [9,8,5],\n",
    "        [3,7,3],\n",
    "        [4,9,9]\n",
    "    ],\n",
    "    [\n",
    "        [2,9,3],\n",
    "        [2,4,8],\n",
    "        [1,6,6],\n",
    "        [8,1,3]\n",
    "    ]\n",
    "])\n",
    "print(array3d)"
   ]
  },
  {
   "cell_type": "markdown",
   "metadata": {},
   "source": [
    "3. Tambahkan angka 1 pada setiap bilangan di baris ganjil array berikut. kemudian tambahkan angka 2 pada setiap bilangan di kolom genap array berikut"
   ]
  },
  {
   "cell_type": "code",
   "execution_count": null,
   "metadata": {},
   "outputs": [],
   "source": [
    "array2d = numpy.array(\n",
    "    [\n",
    "        [1,8,8,2],\n",
    "        [8,2,1,2],\n",
    "        [10,1,4,7],\n",
    "        [1,4,7,8],\n",
    "        [8,2,3,4]\n",
    "    ]\n",
    ")\n",
    "array2d[::2,:] += 1\n",
    "array2d[:, 1::2] += 2\n",
    "print(array2d)"
   ]
  },
  {
   "cell_type": "markdown",
   "metadata": {},
   "source": [
    "4. Baliklah sumbu z array 3D berikut"
   ]
  },
  {
   "cell_type": "code",
   "execution_count": null,
   "metadata": {},
   "outputs": [],
   "source": [
    "array3d = numpy.array([\n",
    "    [\n",
    "        [7,8,5],\n",
    "        [4,7,7],\n",
    "        [7,1,9],\n",
    "        [5,4,10]\n",
    "    ],\n",
    "    [\n",
    "        [2,1,2],\n",
    "        [9,8,5],\n",
    "        [3,7,3],\n",
    "        [4,9,9]\n",
    "    ],\n",
    "    [\n",
    "        [2,9,3],\n",
    "        [2,4,8],\n",
    "        [1,6,6],\n",
    "        [8,1,3]\n",
    "    ]\n",
    "])\n",
    "array3d_1 = numpy.flip(array3d, axis = 2)\n",
    "print(array3d_1)"
   ]
  },
  {
   "cell_type": "markdown",
   "metadata": {},
   "source": [
    "5. Ubahlah array pada soal 4 menjadi array 2D berukuran 6 x 6 (hint : gunakan perintah reshape)\\"
   ]
  },
  {
   "cell_type": "code",
   "execution_count": null,
   "metadata": {},
   "outputs": [],
   "source": [
    "array3d = numpy.array([\n",
    "    [\n",
    "        [7,8,5],\n",
    "        [4,7,7],\n",
    "        [7,1,9],\n",
    "        [5,4,10]\n",
    "    ],\n",
    "    [\n",
    "        [2,1,2],\n",
    "        [9,8,5],\n",
    "        [3,7,3],\n",
    "        [4,9,9]\n",
    "    ],\n",
    "    [\n",
    "        [2,9,3],\n",
    "        [2,4,8],\n",
    "        [1,6,6],\n",
    "        [8,1,3]\n",
    "    ]\n",
    "])\n",
    "\n",
    "array2d = array3d.reshape(6,6)\n",
    "print(array2d)"
   ]
  },
  {
   "cell_type": "markdown",
   "metadata": {},
   "source": [
    "6. Ubahlah matriks kiri menjadi matriks sebelah kanan"
   ]
  },
  {
   "cell_type": "code",
   "execution_count": null,
   "metadata": {},
   "outputs": [],
   "source": [
    "array2d = numpy.array([\n",
    "    [5,10,10,7],\n",
    "    [7,8,4,10],\n",
    "    [9,10,2,5],\n",
    "    [1,8,9,3],\n",
    "    [6,10,5,2],\n",
    "    [4,6,9,4],\n",
    "])\n",
    "column = [2,3,0,1]\n",
    "array2d_1 = array2d[:,column]\n",
    "row = [3,4,5,0,1,2]\n",
    "array2d_2 = array2d_1[row,:]\n",
    "print(array2d_2)"
   ]
  }
 ],
 "metadata": {
  "kernelspec": {
   "display_name": "Python 3",
   "language": "python",
   "name": "python3"
  },
  "language_info": {
   "codemirror_mode": {
    "name": "ipython",
    "version": 3
   },
   "file_extension": ".py",
   "mimetype": "text/x-python",
   "name": "python",
   "nbconvert_exporter": "python",
   "pygments_lexer": "ipython3",
   "version": "3.12.2"
  }
 },
 "nbformat": 4,
 "nbformat_minor": 2
}
